{
 "cells": [
  {
   "cell_type": "raw",
   "id": "e97ce6a5",
   "metadata": {},
   "source": [
    "Dated: 9 Aug 2024\n",
    "* https://docs.python.org/3/library/re.html\n",
    "* https://www.dataquest.io/blog/regex-cheatsheet/"
   ]
  },
  {
   "cell_type": "code",
   "execution_count": 1,
   "id": "2a252eca",
   "metadata": {},
   "outputs": [],
   "source": [
    "import re"
   ]
  },
  {
   "cell_type": "code",
   "execution_count": 8,
   "id": "58a5e3b9",
   "metadata": {},
   "outputs": [
    {
     "data": {
      "text/plain": [
       "'pakistan zinda bad \\n123 456 7892\\n\\tm.qasim077@gmail.com\\npanacloud\\nned zinda bad\\n'"
      ]
     },
     "metadata": {},
     "output_type": "display_data"
    },
    {
     "name": "stdout",
     "output_type": "stream",
     "text": [
      "pakistan zinda bad \n",
      "123 456 7892\n",
      "\tm.qasim077@gmail.com\n",
      "panacloud\n",
      "ned zinda bad\n",
      "\n"
     ]
    }
   ],
   "source": [
    "text = \"\"\"pakistan zinda bad \n",
    "123 456 7892\n",
    "\\tm.qasim077@gmail.com\n",
    "panacloud\n",
    "ned zinda bad\n",
    "\"\"\"\n",
    "display(text)\n",
    "print(text)\n",
    "# data = re.findall(\"p\",text, re.IGNORECASE)\n",
    "# print(data)\n",
    "\n",
    "# data = re.findall(\".\",text, re.IGNORECASE)\n",
    "# print(data)"
   ]
  },
  {
   "cell_type": "code",
   "execution_count": 9,
   "id": "354e8571",
   "metadata": {},
   "outputs": [
    {
     "name": "stdout",
     "output_type": "stream",
     "text": [
      "['p', 'a', 'k', 'i', 's', 't', 'a', 'n', ' ', 'z', 'i', 'n', 'd', 'a', ' ', 'b', 'a', 'd', ' ', '1', '2', '3', ' ', '4', '5', '6', ' ', '7', '8', '9', '2', '\\t', 'm', '.', 'q', 'a', 's', 'i', 'm', '0', '7', '7', '@', 'g', 'm', 'a', 'i', 'l', '.', 'c', 'o', 'm', 'p', 'a', 'n', 'a', 'c', 'l', 'o', 'u', 'd', 'n', 'e', 'd', ' ', 'z', 'i', 'n', 'd', 'a', ' ', 'b', 'a', 'd']\n"
     ]
    }
   ],
   "source": [
    "text = \"\"\"pakistan zinda bad\n",
    "123 456 7892\n",
    "\\tm.qasim077@gmail.com\n",
    "panacloud\n",
    "ned zinda bad\n",
    "\"\"\"\n",
    "\n",
    "data = re.findall('.', text) # . anything except \\n (newline)\n",
    "print(data)"
   ]
  },
  {
   "cell_type": "code",
   "execution_count": 11,
   "id": "436dadbd",
   "metadata": {},
   "outputs": [
    {
     "name": "stdout",
     "output_type": "stream",
     "text": [
      "['pa', 'pa', 'pa']\n"
     ]
    }
   ],
   "source": [
    "text = \"\"\"pakistan zinda bad\n",
    "123 456 7892\n",
    "\\tm.qasim077@gmail.com\n",
    "panacloud\n",
    "ned zinda bad\n",
    "abad pakistan my country\n",
    "xyz abc egh\n",
    "\"\"\"\n",
    "# pa\n",
    "data = re.findall('pa', text) # . anything except \\n (newline)\n",
    "print(data)"
   ]
  },
  {
   "cell_type": "markdown",
   "id": "5a29a7fa",
   "metadata": {},
   "source": [
    "# *, +\n",
    "* + 1 or many\n",
    "* * 0 or many"
   ]
  },
  {
   "cell_type": "code",
   "execution_count": 13,
   "id": "b728709a",
   "metadata": {},
   "outputs": [
    {
     "name": "stdout",
     "output_type": "stream",
     "text": [
      "['pak', 'pan', 'pak']\n"
     ]
    }
   ],
   "source": [
    "text = \"\"\"pakistan zinda bad\n",
    "123 456 7892\n",
    "\\tm.qasim077@gmail.com\n",
    "panacloud\n",
    "ned zinda bad\n",
    "abad pakistan my country\n",
    "hello world pa\n",
    "xyz abc egh\n",
    "\"\"\"\n",
    "# pa\n",
    "data = re.findall('pa.', text) # pa. first character p, second a, third . (anything expect \\n)\n",
    "print(data)"
   ]
  },
  {
   "cell_type": "code",
   "execution_count": 21,
   "id": "3dcf79d3",
   "metadata": {},
   "outputs": [
    {
     "name": "stdout",
     "output_type": "stream",
     "text": [
      "['pakistan zin', 'polan', 'pan', 'pakistan my coun']\n"
     ]
    }
   ],
   "source": [
    "text = \"\"\"pakistan zinda bad\n",
    "123 456 7892\n",
    "polan hello world\n",
    "\\tm.qasim077@gmail.com\n",
    "panacloud\n",
    "ned zinda bad\n",
    "abad pakistan my country\n",
    "hello world pa\n",
    "xyz abc egh\n",
    "\"\"\"\n",
    "data = re.findall('p.*n', text) # pa. first character p, second a, third . (anything expect \\n)\n",
    "print(data)\n",
    "\n",
    "\n",
    "# data = re.findall('.o.n..y', text) # pa. first character p, second a, third . (anything expect \\n)\n",
    "# print(data)\n",
    "\n",
    "# # pa\n",
    "# data = re.findall('z...a', text) # pa. first character p, second a, third . (anything expect \\n)\n",
    "# print(data)\n",
    "\n",
    "# data = re.findall('p......n', text) # pa. first character p, second a, third . (anything expect \\n)\n",
    "# print(data)\n",
    "\n"
   ]
  },
  {
   "cell_type": "code",
   "execution_count": 25,
   "id": "29c3f48e",
   "metadata": {},
   "outputs": [
    {
     "name": "stdout",
     "output_type": "stream",
     "text": [
      "['pakistan zin', 'polan', 'pan', 'pakistan my coun']\n"
     ]
    }
   ],
   "source": [
    "text = \"\"\"pakistan zinda bad\n",
    "123 456 7892\n",
    "polan hello world\n",
    "\\tm.qasim077@gmail.com\n",
    "panacloud\n",
    "ned zinda bad\n",
    "abad pakistan my country\n",
    "hello world pa\n",
    "xyz abc egh\n",
    "\"\"\"\n",
    "data = re.findall('p.+n', text) # pa. first character p, second a, third . (anything expect \\n)\n",
    "print(data)\n",
    "\n",
    "\n"
   ]
  },
  {
   "cell_type": "code",
   "execution_count": 36,
   "id": "69eefb41",
   "metadata": {},
   "outputs": [
    {
     "name": "stdout",
     "output_type": "stream",
     "text": [
      "['p', 'p', 'p', 'p', 'p', 'P', 'pppp', 'pp']\n"
     ]
    }
   ],
   "source": [
    "text = \"\"\"pakistan \\n zinda bad\n",
    "123 456 7892\n",
    "polan hello world\n",
    "\\tm.qasim077@gmail.com\n",
    "panacloud\n",
    "ned zinda bad\n",
    "abad pakistan my country\n",
    "hello world pa\n",
    "Pakistan\n",
    "hello pppp add pp \n",
    "xyz abc egh\n",
    "\"\"\"\n",
    "# data = re.findall('p.+n', text) # pa. first character p, second a, third . (anything expect \\n)\n",
    "# print(data)\n",
    "\n",
    "data = re.findall('p+', text, re.IGNORECASE) # pa. first character p, second a, third . (anything expect \\n)\n",
    "print(data)"
   ]
  },
  {
   "cell_type": "code",
   "execution_count": null,
   "id": "6e3509fc",
   "metadata": {},
   "outputs": [],
   "source": [
    "text = \"\"\"pakistan \\n zinda bad\n",
    "123 456 7892\n",
    "polan hello world\n",
    "\\tm.qasim077@gmail.com\n",
    "panacloud\n",
    "ned zinda bad\n",
    "abad pakistan my country\n",
    "hello world pa\n",
    "Pakistan\n",
    "hello pppp add pp \n",
    "xyz abc egh\n",
    "\"\"\""
   ]
  },
  {
   "cell_type": "markdown",
   "id": "bb486f51",
   "metadata": {},
   "source": [
    "# ^ and $\n",
    "* ^ start line\n",
    "\n",
    "* $ end of line"
   ]
  },
  {
   "cell_type": "code",
   "execution_count": 61,
   "id": "87a46512",
   "metadata": {},
   "outputs": [
    {
     "name": "stdout",
     "output_type": "stream",
     "text": [
      "['pak zinda bad']\n"
     ]
    }
   ],
   "source": [
    "text = \"\"\"pakistan zinda bad\"\"\"\n",
    "text = \"\"\"pak zinda bad\"\"\"\n",
    "\n",
    "\n",
    "data = re.findall(\"^p.*d$\", text)\n",
    "print(data)"
   ]
  },
  {
   "cell_type": "code",
   "execution_count": 60,
   "id": "cdd190a9",
   "metadata": {},
   "outputs": [
    {
     "name": "stdout",
     "output_type": "stream",
     "text": [
      "[]\n"
     ]
    }
   ],
   "source": [
    "text = \"\"\"pakistan zinda bad\n",
    "123 456 7892\n",
    "polan hello world\n",
    "\\tm.qasim077@gmail.com\n",
    "panacloud\n",
    "ned zinda bad\n",
    "abad pakistan my country\n",
    "hello world pa\n",
    "Pakistan\n",
    "hello pppp add pp \n",
    "xyz abc egh\n",
    "\"\"\"\n",
    "data = re.findall(\"^p.*d$\", text)\n",
    "print(data)"
   ]
  },
  {
   "cell_type": "code",
   "execution_count": 63,
   "id": "4133a7a1",
   "metadata": {},
   "outputs": [
    {
     "name": "stdout",
     "output_type": "stream",
     "text": [
      "['hello world pa']\n"
     ]
    }
   ],
   "source": [
    "text = \"\"\"pakistan zinda bad\n",
    "123 456 7892\n",
    "polan hello world\n",
    "\\tm.qasim077@gmail.com\n",
    "panacloud\n",
    "ned zinda bad\n",
    "abad pakistan my country\n",
    "hello world pa\n",
    "Pakistan\n",
    "hello pppp add pp \n",
    "xyz abc egh\n",
    "\"\"\"\n",
    "data = re.findall(\"^h.*a$\", text, re.MULTILINE)\n",
    "print(data)\n",
    "\n",
    "# data = re.findall(\"^p.*d$\", text, re.MULTILINE)\n",
    "# print(data)"
   ]
  },
  {
   "cell_type": "markdown",
   "id": "2d457c13",
   "metadata": {},
   "source": [
    "# ?"
   ]
  },
  {
   "cell_type": "code",
   "execution_count": 72,
   "id": "832f5447",
   "metadata": {},
   "outputs": [
    {
     "data": {
      "text/plain": [
       "['pak', 'po', 'pa', 'pak', 'pa', 'pik', 'po', 'pp', 'pp', 'pp']"
      ]
     },
     "execution_count": 72,
     "metadata": {},
     "output_type": "execute_result"
    }
   ],
   "source": [
    "text = \"\"\"pakistan zinda bad\n",
    "123 456 7892\n",
    "polan hello world\n",
    "\\tm.qasim077@gmail.com\n",
    "panacloud\n",
    "ned zinda bad\n",
    "abad pakistan my country\n",
    "hello world pa\n",
    "pik \n",
    "pop\n",
    "Pakistan\n",
    "hello pppp add pp \n",
    "xyz abc egh\n",
    "\"\"\"\n",
    "\n",
    "data = re.findall(\"p.k?\", text)\n",
    "data"
   ]
  },
  {
   "cell_type": "code",
   "execution_count": 76,
   "id": "b58cc217",
   "metadata": {},
   "outputs": [
    {
     "name": "stdout",
     "output_type": "stream",
     "text": [
      "['pakistan zin', 'polan', 'pan', 'pakistan my coun']\n",
      "['pakistan', 'polan', 'pan', 'pakistan']\n"
     ]
    }
   ],
   "source": [
    "text = \"\"\"pakistan zinda bad\n",
    "123 456 7892\n",
    "polan hello world\n",
    "\\tm.qasim077@gmail.com\n",
    "panacloud\n",
    "ned zinda bad\n",
    "abad pakistan my country\n",
    "hello world pa\n",
    "pik \n",
    "pop\n",
    "Pakistan\n",
    "hello pppp add pp \n",
    "xyz abc egh\n",
    "\"\"\"\n",
    "\n",
    "data = re.findall(\"p.*n\", text)\n",
    "print(data)\n",
    "\n",
    "data = re.findall(\"p.*?n\", text)\n",
    "print(data)"
   ]
  },
  {
   "cell_type": "code",
   "execution_count": 80,
   "id": "b1468041",
   "metadata": {},
   "outputs": [
    {
     "name": "stdout",
     "output_type": "stream",
     "text": [
      "['<h1>This is a Heading</h1>', '<p>This is a paragraph.</p>']\n"
     ]
    }
   ],
   "source": [
    "text = \"\"\"\n",
    "\n",
    " Pakistan \n",
    " \n",
    "<h1>This is a Heading</h1>\n",
    "<p>This is a paragraph.</p>\n",
    "\n",
    "zinda bad\n",
    "\n",
    "\"\"\"\n",
    "\n",
    "pattern = \"<.*?>*.?</.*?>\"\n",
    "\n",
    "data = re.findall(pattern, text)\n",
    "\n",
    "print(data)\n"
   ]
  },
  {
   "cell_type": "code",
   "execution_count": 8,
   "id": "728f6aa3",
   "metadata": {},
   "outputs": [
    {
     "name": "stdout",
     "output_type": "stream",
     "text": [
      "['<h1>This is a Heading</h1>', '<h2>Second heading</h2>']\n"
     ]
    }
   ],
   "source": [
    "import re\n",
    "\n",
    "text = \"\"\"\n",
    "\n",
    " Pakistan \n",
    " \n",
    "<h1>This is a Heading</h1>\n",
    "<h2>Second heading</h2>\n",
    "<p>This is a paragraph.</p>\n",
    "\n",
    "zinda bad\n",
    "\n",
    "\"\"\"\n",
    "\n",
    "pattern = \"<h.>.*</h.>\"\n",
    "\n",
    "data = re.findall(pattern, text, re.MULTILINE)\n",
    "\n",
    "print(data)\n"
   ]
  },
  {
   "cell_type": "code",
   "execution_count": null,
   "id": "d969d1a8",
   "metadata": {},
   "outputs": [],
   "source": []
  }
 ],
 "metadata": {
  "kernelspec": {
   "display_name": "Python 3 (ipykernel)",
   "language": "python",
   "name": "python3"
  },
  "language_info": {
   "codemirror_mode": {
    "name": "ipython",
    "version": 3
   },
   "file_extension": ".py",
   "mimetype": "text/x-python",
   "name": "python",
   "nbconvert_exporter": "python",
   "pygments_lexer": "ipython3",
   "version": "3.11.3"
  }
 },
 "nbformat": 4,
 "nbformat_minor": 5
}
